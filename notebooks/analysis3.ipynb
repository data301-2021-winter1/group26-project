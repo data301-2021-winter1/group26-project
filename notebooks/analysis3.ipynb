{
 "cells": [
  {
   "cell_type": "markdown",
   "metadata": {},
   "source": [
    "# Dallas Bueckert"
   ]
  },
  {
   "cell_type": "markdown",
   "metadata": {},
   "source": [
    "## Research question/interests\r",
    "How does a game's genre affect the rating people give it on the steam store."
   ]
  },
  {
   "cell_type": "code",
   "execution_count": 5,
   "metadata": {},
   "outputs": [],
   "source": [
    "import pandas as pd"
   ]
  },
  {
   "cell_type": "code",
   "execution_count": 10,
   "metadata": {},
   "outputs": [],
   "source": [
    "df = pd.read_csv('../data/raw/steam.csv')"
   ]
  },
  {
   "cell_type": "code",
   "execution_count": 11,
   "metadata": {},
   "outputs": [
    {
     "name": "stdout",
     "output_type": "stream",
     "text": [
      "         appid                        name release_date  english  \\\n",
      "0           10              Counter-Strike   2000-11-01        1   \n",
      "1           20       Team Fortress Classic   1999-04-01        1   \n",
      "2           30               Day of Defeat   2003-05-01        1   \n",
      "3           40          Deathmatch Classic   2001-06-01        1   \n",
      "4           50   Half-Life: Opposing Force   1999-11-01        1   \n",
      "...        ...                         ...          ...      ...   \n",
      "27070  1065230             Room of Pandora   2019-04-24        1   \n",
      "27071  1065570                   Cyber Gun   2019-04-23        1   \n",
      "27072  1065650            Super Star Blast   2019-04-24        1   \n",
      "27073  1066700  New Yankee 7: Deer Hunters   2019-04-17        1   \n",
      "27074  1069460                   Rune Lord   2019-04-24        1   \n",
      "\n",
      "                developer             publisher          platforms  \\\n",
      "0                   Valve                 Valve  windows;mac;linux   \n",
      "1                   Valve                 Valve  windows;mac;linux   \n",
      "2                   Valve                 Valve  windows;mac;linux   \n",
      "3                   Valve                 Valve  windows;mac;linux   \n",
      "4        Gearbox Software                 Valve  windows;mac;linux   \n",
      "...                   ...                   ...                ...   \n",
      "27070         SHEN JIAWEI           SHEN JIAWEI            windows   \n",
      "27071      Semyon Maximov      BekkerDev Studio            windows   \n",
      "27072         EntwicklerX           EntwicklerX            windows   \n",
      "27073  Yustas Game Studio  Alawar Entertainment        windows;mac   \n",
      "27074    Adept Studios GD  Alawar Entertainment        windows;mac   \n",
      "\n",
      "       required_age                                         categories  \\\n",
      "0                 0  Multi-player;Online Multi-Player;Local Multi-P...   \n",
      "1                 0  Multi-player;Online Multi-Player;Local Multi-P...   \n",
      "2                 0              Multi-player;Valve Anti-Cheat enabled   \n",
      "3                 0  Multi-player;Online Multi-Player;Local Multi-P...   \n",
      "4                 0  Single-player;Multi-player;Valve Anti-Cheat en...   \n",
      "...             ...                                                ...   \n",
      "27070             0                   Single-player;Steam Achievements   \n",
      "27071             0                                      Single-player   \n",
      "27072             0  Single-player;Multi-player;Co-op;Shared/Split ...   \n",
      "27073             0                          Single-player;Steam Cloud   \n",
      "27074             0                          Single-player;Steam Cloud   \n",
      "\n",
      "                       genres                 steamspy_tags  achievements  \\\n",
      "0                      Action        Action;FPS;Multiplayer             0   \n",
      "1                      Action        Action;FPS;Multiplayer             0   \n",
      "2                      Action  FPS;World War II;Multiplayer             0   \n",
      "3                      Action        Action;FPS;Multiplayer             0   \n",
      "4                      Action             FPS;Action;Sci-fi             0   \n",
      "...                       ...                           ...           ...   \n",
      "27070  Adventure;Casual;Indie        Adventure;Indie;Casual             7   \n",
      "27071  Action;Adventure;Indie        Action;Indie;Adventure             0   \n",
      "27072     Action;Casual;Indie           Action;Indie;Casual            24   \n",
      "27073  Adventure;Casual;Indie        Indie;Casual;Adventure             0   \n",
      "27074  Adventure;Casual;Indie        Indie;Casual;Adventure             0   \n",
      "\n",
      "       positive_ratings  negative_ratings  average_playtime  median_playtime  \\\n",
      "0                124534              3339             17612              317   \n",
      "1                  3318               633               277               62   \n",
      "2                  3416               398               187               34   \n",
      "3                  1273               267               258              184   \n",
      "4                  5250               288               624              415   \n",
      "...                 ...               ...               ...              ...   \n",
      "27070                 3                 0                 0                0   \n",
      "27071                 8                 1                 0                0   \n",
      "27072                 0                 1                 0                0   \n",
      "27073                 2                 0                 0                0   \n",
      "27074                 4                 0                 0                0   \n",
      "\n",
      "                  owners  price  \n",
      "0      10000000-20000000   7.19  \n",
      "1       5000000-10000000   3.99  \n",
      "2       5000000-10000000   3.99  \n",
      "3       5000000-10000000   3.99  \n",
      "4       5000000-10000000   3.99  \n",
      "...                  ...    ...  \n",
      "27070            0-20000   2.09  \n",
      "27071            0-20000   1.69  \n",
      "27072            0-20000   3.99  \n",
      "27073            0-20000   5.19  \n",
      "27074            0-20000   5.19  \n",
      "\n",
      "[27075 rows x 18 columns]\n"
     ]
    }
   ],
   "source": [
    "print(df)"
   ]
  },
  {
   "cell_type": "code",
   "execution_count": null,
   "metadata": {},
   "outputs": [],
   "source": []
  }
 ],
 "metadata": {
  "kernelspec": {
   "display_name": "Python 3 (ipykernel)",
   "language": "python",
   "name": "python3"
  },
  "language_info": {
   "codemirror_mode": {
    "name": "ipython",
    "version": 3
   },
   "file_extension": ".py",
   "mimetype": "text/x-python",
   "name": "python",
   "nbconvert_exporter": "python",
   "pygments_lexer": "ipython3",
   "version": "3.9.5"
  }
 },
 "nbformat": 4,
 "nbformat_minor": 4
}
