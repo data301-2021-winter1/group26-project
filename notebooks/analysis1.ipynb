{
 "cells": [
  {
   "cell_type": "markdown",
   "metadata": {},
   "source": [
    "# Paul Unger"
   ]
  },
  {
   "cell_type": "markdown",
   "metadata": {
    "tags": []
   },
   "source": [
    "## Research question/interests\n",
    "I'm interested in researching the ratio of how many expensive games get generally positive reviews as opposed to cheaper games to see if the extra money is worth it"
   ]
  },
  {
   "cell_type": "code",
   "execution_count": 1,
   "metadata": {},
   "outputs": [],
   "source": [
    "import pandas as pd\n",
    "data_raw = pd.read_csv(\"../data/raw/steam.csv\")\n",
    "data_raw.head()"
   ]
  }
 ],
 "metadata": {
  "interpreter": {
   "hash": "d4048392f7b9f5bfe7645ce1dfe2b52a1e4f9a3866414cb036888ca7be5e8d58"
  },
  "kernelspec": {
   "display_name": "Python 3 (ipykernel)",
   "language": "python",
   "name": "python3"
  },
  "language_info": {
   "codemirror_mode": {
    "name": "ipython",
    "version": 3
   },
   "file_extension": ".py",
   "mimetype": "text/x-python",
   "name": "python",
   "nbconvert_exporter": "python",
   "pygments_lexer": "ipython3",
   "version": "3.9.5"
  }
 },
 "nbformat": 4,
 "nbformat_minor": 4
}
